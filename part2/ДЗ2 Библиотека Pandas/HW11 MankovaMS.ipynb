{
 "cells": [
  {
   "cell_type": "markdown",
   "metadata": {},
   "source": [
    "### Домашнее задание «Библиотека Pandas»"
   ]
  },
  {
   "cell_type": "markdown",
   "metadata": {},
   "source": [
    "#### Задание 1\n",
    "Скачайте с сайта https://grouplens.org/datasets/movielens/ датасет любого размера. Определите какому фильму было выставлено больше всего оценок 5.0."
   ]
  },
  {
   "cell_type": "code",
   "execution_count": 89,
   "metadata": {},
   "outputs": [
    {
     "data": {
      "text/html": [
       "<div>\n",
       "<style scoped>\n",
       "    .dataframe tbody tr th:only-of-type {\n",
       "        vertical-align: middle;\n",
       "    }\n",
       "\n",
       "    .dataframe tbody tr th {\n",
       "        vertical-align: top;\n",
       "    }\n",
       "\n",
       "    .dataframe thead th {\n",
       "        text-align: right;\n",
       "    }\n",
       "</style>\n",
       "<table border=\"1\" class=\"dataframe\">\n",
       "  <thead>\n",
       "    <tr style=\"text-align: right;\">\n",
       "      <th></th>\n",
       "      <th>movieId</th>\n",
       "      <th>0</th>\n",
       "      <th>title</th>\n",
       "      <th>genres</th>\n",
       "    </tr>\n",
       "  </thead>\n",
       "  <tbody>\n",
       "    <tr>\n",
       "      <th>0</th>\n",
       "      <td>318</td>\n",
       "      <td>39553</td>\n",
       "      <td>Shawshank Redemption, The (1994)</td>\n",
       "      <td>Crime|Drama</td>\n",
       "    </tr>\n",
       "    <tr>\n",
       "      <th>1</th>\n",
       "      <td>296</td>\n",
       "      <td>32169</td>\n",
       "      <td>Pulp Fiction (1994)</td>\n",
       "      <td>Comedy|Crime|Drama|Thriller</td>\n",
       "    </tr>\n",
       "    <tr>\n",
       "      <th>2</th>\n",
       "      <td>356</td>\n",
       "      <td>25918</td>\n",
       "      <td>Forrest Gump (1994)</td>\n",
       "      <td>Comedy|Drama|Romance|War</td>\n",
       "    </tr>\n",
       "    <tr>\n",
       "      <th>3</th>\n",
       "      <td>260</td>\n",
       "      <td>25804</td>\n",
       "      <td>Star Wars: Episode IV - A New Hope (1977)</td>\n",
       "      <td>Action|Adventure|Sci-Fi</td>\n",
       "    </tr>\n",
       "    <tr>\n",
       "      <th>4</th>\n",
       "      <td>2571</td>\n",
       "      <td>25482</td>\n",
       "      <td>Matrix, The (1999)</td>\n",
       "      <td>Action|Sci-Fi|Thriller</td>\n",
       "    </tr>\n",
       "  </tbody>\n",
       "</table>\n",
       "</div>"
      ],
      "text/plain": [
       "   movieId      0                                      title  \\\n",
       "0      318  39553           Shawshank Redemption, The (1994)   \n",
       "1      296  32169                        Pulp Fiction (1994)   \n",
       "2      356  25918                        Forrest Gump (1994)   \n",
       "3      260  25804  Star Wars: Episode IV - A New Hope (1977)   \n",
       "4     2571  25482                         Matrix, The (1999)   \n",
       "\n",
       "                        genres  \n",
       "0                  Crime|Drama  \n",
       "1  Comedy|Crime|Drama|Thriller  \n",
       "2     Comedy|Drama|Romance|War  \n",
       "3      Action|Adventure|Sci-Fi  \n",
       "4       Action|Sci-Fi|Thriller  "
      ]
     },
     "execution_count": 89,
     "metadata": {},
     "output_type": "execute_result"
    }
   ],
   "source": [
    "import pandas as pd\n",
    "\n",
    "ratings = pd.read_csv('ml-25m/ratings.csv')\n",
    "#ratings.head()\n",
    "ratings_grouped = ratings[['movieId','rating']].query('rating == 5.0').value_counts().head(5)\n",
    "ratings_grouped.head()\n",
    "\n",
    "movies = pd.read_csv('ml-25m/movies.csv')\n",
    "movies.head()\n",
    "joined = ratings_grouped.to_frame().merge(movies, on='movieId', how='left')\n",
    "joined.head()"
   ]
  },
  {
   "cell_type": "markdown",
   "metadata": {},
   "source": [
    "#### Задание 2\n",
    "По данным файла power.csv посчитайте суммарное потребление стран Прибалтики (Латвия, Литва и Эстония) категорий 4, 12 и 21 за период с 2005 по 2010 года. Не учитывайте в расчетах отрицательные значения quantity."
   ]
  },
  {
   "cell_type": "code",
   "execution_count": 77,
   "metadata": {},
   "outputs": [
    {
     "data": {
      "text/plain": [
       "240580.0"
      ]
     },
     "execution_count": 77,
     "metadata": {},
     "output_type": "execute_result"
    }
   ],
   "source": [
    "data = pd.read_csv('power.csv')\n",
    "data.head()\n",
    "\n",
    "filtered_countries = data[ ((data['country']=='Lithuania') | (data['country']=='Latvia')| (data['country']=='Estonia'))&\n",
    "                           ((data['category'] == 4) | (data['category'] ==12) | (data['category'] ==21))&\n",
    "                           ( data['year'].between(2005, 2010))&\n",
    "                           (data['quantity'] >= 0)]\n",
    "filtered_countries['quantity'].sum()"
   ]
  },
  {
   "cell_type": "markdown",
   "metadata": {},
   "source": [
    "#### Задание 3\n",
    "Выберите страницу любого сайта с табличными данными. Импортируйте таблицы в pandas dataframe.\n",
    "Примеры страниц (необязательно брать именно эти):\n",
    "https://fortrader.org/quotes\n",
    "https://www.finanz.ru/valyuty/v-realnom-vremeni"
   ]
  },
  {
   "cell_type": "code",
   "execution_count": 88,
   "metadata": {},
   "outputs": [
    {
     "data": {
      "text/plain": [
       "[    Unnamed: 0              Рубль  Предложение  Спрос  Предыдущее закрытие  \\\n",
       " 0          NaN            GBP/RUB      1048340      -              1049209   \n",
       " 1          NaN            EUR/RUB       898545      -               900933   \n",
       " 2          NaN            USD/RUB       744040      -               741896   \n",
       " 3          NaN            JPY/RUB        06792      -                06830   \n",
       " 4          NaN            CNY/RUB       115203      -               115381   \n",
       " 5          NaN            CHF/RUB       818331      -               821308   \n",
       " 6          NaN               Евро  Предложение  Спрос  Предыдущее закрытие   \n",
       " 7          NaN            EUR/USD        12080      -                12151   \n",
       " 8          NaN            EUR/GBP        08572      -                08591   \n",
       " 9          NaN            EUR/JPY      1322920      -              1319600   \n",
       " 10         NaN            EUR/CHF        10976      -                10981   \n",
       " 11         NaN         Доллар США  Предложение  Спрос  Предыдущее закрытие   \n",
       " 12         NaN            USD/EUR        08278      -                08231   \n",
       " 13         NaN            USD/GBP        07094      -                07070   \n",
       " 14         NaN            USD/JPY      1095160      -              1086190   \n",
       " 15         NaN            USD/CHF        09088      -                09034   \n",
       " 16         NaN      Японская иена  Предложение  Спрос  Предыдущее закрытие   \n",
       " 17         NaN    JPY/EUR (100:1)        07600      -                07600   \n",
       " 18         NaN            JPY/GBP        00065      -                00065   \n",
       " 19         NaN            JPY/USD        00091      -                00092   \n",
       " 20         NaN    JPY/CHF (100:1)        08300      -                08300   \n",
       " 21         NaN    Фунт стерлингов  Предложение  Спрос  Предыдущее закрытие   \n",
       " 22         NaN            GBP/USD        14097      -                14141   \n",
       " 23         NaN            GBP/JPY      1543684      -              1536279   \n",
       " 24         NaN            GBP/EUR        11669      -                11641   \n",
       " 25         NaN            GBP/CHF        12809      -                12772   \n",
       " 26         NaN  Швейцарский франк  Предложение  Спрос  Предыдущее закрытие   \n",
       " 27         NaN            GBP/CHF        12809      -                12772   \n",
       " 28         NaN            EUR/CHF        10976      -                10981   \n",
       " 29         NaN    JPY/CHF (100:1)        08300      -                08300   \n",
       " 30         NaN            USD/CHF        09088      -                09034   \n",
       " 31         NaN  Украинская гривна  Предложение  Спрос  Предыдущее закрытие   \n",
       " 32         NaN            EUR/UAH       333575      -               335146   \n",
       " 33         NaN            USD/UAH       276173      -               275852   \n",
       " 34         NaN            CHF/UAH       303921      -               305416   \n",
       " 35         NaN            GBP/UAH       389265      -               390165   \n",
       " \n",
       "           %  Абсолютное значение     Время  \n",
       " 0   -0,08 %               -00869  18:46:00  \n",
       " 1   -0,27 %               -02388  18:46:00  \n",
       " 2    0,29 %                02144  18:46:00  \n",
       " 3   -0,56 %               -00038  18:46:00  \n",
       " 4   -0,15 %               -00178  18:46:00  \n",
       " 5   -0,36 %               -02977  18:46:00  \n",
       " 6         %  Абсолютное значение     Время  \n",
       " 7   -0,58 %               -00071  18:46:00  \n",
       " 8   -0,22 %               -00019  18:46:00  \n",
       " 9    0,25 %                03320  18:46:00  \n",
       " 10  -0,04 %               -00005  18:46:00  \n",
       " 11        %  Абсолютное значение     Время  \n",
       " 12   0,57 %                00047  18:46:00  \n",
       " 13   0,34 %                00024  18:46:00  \n",
       " 14   0,83 %                08970  18:46:00  \n",
       " 15   0,60 %                00054  18:46:00  \n",
       " 16        %  Абсолютное значение     Время  \n",
       " 17  -0,26 %                00000  18:46:00  \n",
       " 18  -0,50 %                00000  18:46:00  \n",
       " 19  -0,82 %               -00001  18:46:00  \n",
       " 20  -0,20 %                00000  18:46:00  \n",
       " 21        %  Абсолютное значение     Время  \n",
       " 22  -0,31 %               -00044  18:46:00  \n",
       " 23   0,48 %                07406  18:46:00  \n",
       " 24   0,24 %                00028  18:46:00  \n",
       " 25   0,29 %                00037  18:46:00  \n",
       " 26        %  Абсолютное значение     Время  \n",
       " 27   0,29 %                00037  18:46:00  \n",
       " 28  -0,04 %               -00005  18:46:00  \n",
       " 29  -0,20 %                00000  18:46:00  \n",
       " 30   0,60 %                00054  18:46:00  \n",
       " 31        %  Абсолютное значение     Время  \n",
       " 32  -0,47 %               -01572  18:46:00  \n",
       " 33   0,12 %                00321  18:45:00  \n",
       " 34  -0,49 %               -01496  18:46:00  \n",
       " 35  -0,23 %               -00900  18:46:00  ]"
      ]
     },
     "execution_count": 88,
     "metadata": {},
     "output_type": "execute_result"
    }
   ],
   "source": [
    "page_url = 'https://www.finanz.ru/valyuty/v-realnom-vremeni'\n",
    "df = pd.read_html(page_url, attrs = {'class': 'quote_list'}, encoding='utf-8')\n",
    "df[:5]"
   ]
  }
 ],
 "metadata": {
  "kernelspec": {
   "display_name": "Python 3",
   "language": "python",
   "name": "python3"
  },
  "language_info": {
   "codemirror_mode": {
    "name": "ipython",
    "version": 3
   },
   "file_extension": ".py",
   "mimetype": "text/x-python",
   "name": "python",
   "nbconvert_exporter": "python",
   "pygments_lexer": "ipython3",
   "version": "3.8.5"
  }
 },
 "nbformat": 4,
 "nbformat_minor": 4
}
