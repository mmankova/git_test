{
 "cells": [
  {
   "cell_type": "markdown",
   "metadata": {},
   "source": [
    "### Домашнее задание к лекции «Случайные события. Случайные величины»"
   ]
  },
  {
   "cell_type": "markdown",
   "metadata": {},
   "source": [
    "Домашнее задание к лекции.\n",
    "http://prntscr.com/uh35yg\n",
    "\n",
    "Смоделировать игру против лотерейного автомата типа “777”. Игрок платит 1 руб., после чего выпадает случайное целое число, равномерно распределенное от 0 до 999. При некоторых значениях числа игрок получает выигрыш (см. справа)\n",
    "\n",
    "Выгодна ли игра игроку?\n",
    "\n",
    "Сколько в среднем приобретает\n",
    "или теряет игрок за одну игру?\n",
    "\n",
    "777: 200 руб.\n",
    "999: 100 руб.\n",
    "555: 50 руб.\n",
    "333: 15 руб.\n",
    "111: 10 руб.\n",
    "*77: 5 руб.\n",
    "**7: 3 руб.\n",
    "*00: 2 руб.\n",
    "**0: 1 руб.\n",
    "\n",
    "– любая цифра\n",
    "Дополнительное задание повышенной сложности. Теоретически рассчитать средний выигрыш (проигрыш) и сравнить с результатами моделирования"
   ]
  },
  {
   "cell_type": "code",
   "execution_count": 33,
   "metadata": {},
   "outputs": [
    {
     "name": "stdout",
     "output_type": "stream",
     "text": [
      "0.012829 987171 12829 948813 1000000\n"
     ]
    }
   ],
   "source": [
    "import numpy as np\n",
    "trials = 1000000    # Количество попыток\n",
    "\n",
    "true_pos = 0    # Количество выигрышных\n",
    "false_pos = 0   # Количество проигрышных\n",
    "payoff = 0   # Выигрыш\n",
    "price = 0 # оплата\n",
    "\n",
    "\n",
    "for i in range(trials):\n",
    "    random_score = np.random.randint(0, 999)    # Случайное количество очков \n",
    "    price += 1\n",
    "    # решаем, выигрышный или нет\n",
    "    if random_score%777 == 0:\n",
    "        payoff += 200\n",
    "    elif random_score%999 == 0:\n",
    "        payoff += 100 \n",
    "    elif random_score%555 == 0:\n",
    "        payoff += 50 \n",
    "    elif random_score%999 == 0:\n",
    "        payoff += 100 \n",
    "    elif random_score%333 == 0:\n",
    "        payoff += 15\n",
    "    elif random_score%111 == 0:\n",
    "        payoff += 10 \n",
    "    elif random_score%100 == 77:\n",
    "        payoff += 5 \n",
    "    elif random_score%10 == 7:\n",
    "        payoff += 3\n",
    "    elif random_score%100 == 0:\n",
    "        payoff += 2 \n",
    "    elif random_score%10 == 0:\n",
    "        payoff += 1 \n",
    "    #print(payoff,price )\n",
    "    if payoff >= (price): \n",
    "         true_pos += 1\n",
    "    else:\n",
    "         false_pos += 1        \n",
    "            \n",
    "p_monte_carlo = true_pos / (true_pos + false_pos)    # Вероятность из моделирования\n",
    "print(p_monte_carlo, false_pos, true_pos, payoff, price )"
   ]
  },
  {
   "cell_type": "code",
   "execution_count": 29,
   "metadata": {},
   "outputs": [
    {
     "name": "stdout",
     "output_type": "stream",
     "text": [
      "0.225\n",
      "0.225\n"
     ]
    }
   ],
   "source": [
    "# H1 =  игрок в выигрыше\n",
    "# H2 =  игрок в проигрыше\n",
    "# A = \n",
    "\"\"\" 777: 200 руб. вероятность 1/10*1/10*1/10\n",
    "999: 100 руб. вероятность 1/10*1/10*1/10\n",
    "555: 50 руб. вероятность 1/10*1/10*1/10\n",
    "333: 15 руб. вероятность 1/10*1/10*1/10\n",
    "111: 10 руб. вероятность 1/10*1/10*1/10\n",
    "*77: 5 руб. вероятность 1/10*1/10\n",
    "**7: 3 руб. вероятность 1/10\n",
    "*00: 2 руб. вероятность 1/10*1/10\n",
    "**0: 1 руб. вероятность 1/10\n",
    "\"\"\" \n",
    "ver =5*( (1/10)**3)+ 2*((1/10)**2)+ 2*((1/10))\n",
    "print(ver)\n",
    "p = (ver) / (ver + (1 - ver) )   # Теоретическая вероятность \n",
    "print(p)"
   ]
  }
 ],
 "metadata": {
  "kernelspec": {
   "display_name": "Python 3",
   "language": "python",
   "name": "python3"
  },
  "language_info": {
   "codemirror_mode": {
    "name": "ipython",
    "version": 3
   },
   "file_extension": ".py",
   "mimetype": "text/x-python",
   "name": "python",
   "nbconvert_exporter": "python",
   "pygments_lexer": "ipython3",
   "version": "3.8.5"
  }
 },
 "nbformat": 4,
 "nbformat_minor": 4
}
