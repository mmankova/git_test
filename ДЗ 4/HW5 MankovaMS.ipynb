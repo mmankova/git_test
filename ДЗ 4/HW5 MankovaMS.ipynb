{
 "cells": [
  {
   "cell_type": "markdown",
   "metadata": {},
   "source": [
    "#### 1.\n",
    "Переведите содержимое файла purchase_log.txt в словарь purchases вида:\n",
    "{‘1840e0b9d4’: ‘Продукты’, …}\n",
    "\n",
    "содержимое purchase_log.txt помещается в оперативную память компьютера"
   ]
  },
  {
   "cell_type": "code",
   "execution_count": 40,
   "metadata": {},
   "outputs": [],
   "source": [
    "import json\n",
    "f = open('purchase_log.txt', 'r',  encoding='utf-8') \n",
    "lines = f.readlines()\n",
    "\n",
    "purchases = {}\n",
    "\n",
    "for i, line in enumerate(lines):\n",
    "    if i>0:\n",
    "       #print(i, line)\n",
    "        line = line.strip()\n",
    "        dict_ = json.loads(line)\n",
    "        #print(dict_, type(dict_))      \n",
    "        if dict_['user_id'] not in purchases:\n",
    "            purchases[dict_['user_id']] = dict_['category']\n",
    "        #if i > 100: break    \n",
    "\n",
    "#print(purchases)  "
   ]
  },
  {
   "cell_type": "markdown",
   "metadata": {},
   "source": [
    "#### 2.\n",
    "Для каждого user_id в файле visit_log.csv определите третий столбец с категорией покупки (если покупка была, сам файл visit_log.csv изменять не надо). Запишите в файл funnel.csv визиты из файла visit_log.csv, в которых были покупки с указанием категории.\n",
    "\n",
    "содержимое visit_log.csv помещается в оперативную память компьютера не надо; используйте только построчную обработку этого файла"
   ]
  },
  {
   "cell_type": "code",
   "execution_count": 68,
   "metadata": {},
   "outputs": [],
   "source": [
    "import json\n",
    "f = open('purchase_log.txt', 'r',  encoding='utf-8') \n",
    "lines = f.readlines()\n",
    "\n",
    "purchases = {}\n",
    "\n",
    "for i, line in enumerate(lines):\n",
    "    if i>0:\n",
    "       #print(i, line)\n",
    "        line = line.strip()\n",
    "        dict_ = json.loads(line)\n",
    "        #print(dict_, type(dict_))      \n",
    "        if dict_['user_id'] not in purchases:\n",
    "            purchases[dict_['user_id']] = dict_['category']\n",
    "        if i > 100: break    \n",
    "\n",
    "\n",
    "visit_log_f = open('visit_log.csv', 'r',  encoding='utf-8') \n",
    "with open('funnel.csv', 'w') as f:\n",
    "    for i, line in enumerate(visit_log_f):\n",
    "        if i>0:\n",
    "            list_ = line.strip().split(',')\n",
    "            if list_[0] in purchases: \n",
    "                f.write(list_[0]+','+list_[1]+','+purchases[list_[0]]+'\\n')\n",
    "            else:  f.write(list_[0]+','+list_[1]+'\\n')   \n",
    "            #if i > 100: break  "
   ]
  },
  {
   "cell_type": "code",
   "execution_count": null,
   "metadata": {},
   "outputs": [],
   "source": []
  }
 ],
 "metadata": {
  "kernelspec": {
   "display_name": "Python 3",
   "language": "python",
   "name": "python3"
  },
  "language_info": {
   "codemirror_mode": {
    "name": "ipython",
    "version": 3
   },
   "file_extension": ".py",
   "mimetype": "text/x-python",
   "name": "python",
   "nbconvert_exporter": "python",
   "pygments_lexer": "ipython3",
   "version": "3.8.5"
  }
 },
 "nbformat": 4,
 "nbformat_minor": 4
}
